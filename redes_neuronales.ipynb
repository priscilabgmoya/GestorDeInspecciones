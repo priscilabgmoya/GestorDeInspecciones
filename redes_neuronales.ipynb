{
  "nbformat": 4,
  "nbformat_minor": 0,
  "metadata": {
    "colab": {
      "provenance": [],
      "authorship_tag": "ABX9TyOaB7bbB2dywPSNSXZMFRm3",
      "include_colab_link": true
    },
    "kernelspec": {
      "name": "python3",
      "display_name": "Python 3"
    },
    "language_info": {
      "name": "python"
    }
  },
  "cells": [
    {
      "cell_type": "markdown",
      "metadata": {
        "id": "view-in-github",
        "colab_type": "text"
      },
      "source": [
        "<a href=\"https://colab.research.google.com/github/priscilabgmoya/GestorDeInspecciones/blob/main/redes_neuronales.ipynb\" target=\"_parent\"><img src=\"https://colab.research.google.com/assets/colab-badge.svg\" alt=\"Open In Colab\"/></a>"
      ]
    },
    {
      "cell_type": "markdown",
      "source": [
        "# RED NEURONAL - TRANSFORMAR DE C° A F°"
      ],
      "metadata": {
        "id": "Ah9-coRoptEC"
      }
    },
    {
      "cell_type": "code",
      "execution_count": null,
      "metadata": {
        "id": "Qsiyj3JUc7OO"
      },
      "outputs": [],
      "source": [
        "import tensorflow as tf\n",
        "import numpy as np\n",
        "import matplotlib.pyplot as plt"
      ]
    },
    {
      "cell_type": "code",
      "source": [
        "celsius = np.array([-40,-10,0,8,15,22,38] , dtype= float)\n",
        "fahrenhenit = np.array([-40,14,32,46,59,72,100],dtype= float)"
      ],
      "metadata": {
        "id": "mu-VpVgxdeQZ"
      },
      "execution_count": null,
      "outputs": []
    },
    {
      "cell_type": "code",
      "source": [
        "#capa = tf.keras.layers.Dense(units=1, input_shape=[1])\n",
        "#modelo = tf.keras.Sequential([capa])\n",
        "\n",
        "#Que pasa si se agregan mas capas?\n",
        "oculta_1 =  tf.keras.layers.Dense(units=3, input_shape=[1])\n",
        "oculta_2 =  tf.keras.layers.Dense(units=3)\n",
        "salida =  tf.keras.layers.Dense(units=1)\n",
        "modelo = tf.keras.Sequential([oculta_1,oculta_2,salida])"
      ],
      "metadata": {
        "id": "dcida0uheNhH"
      },
      "execution_count": 19,
      "outputs": []
    },
    {
      "cell_type": "code",
      "source": [
        "modelo.compile(\n",
        "    optimizer= tf.keras.optimizers.Adam(0.1),\n",
        "    loss ='mean_squared_error'\n",
        ")"
      ],
      "metadata": {
        "id": "wAFricwxe43h"
      },
      "execution_count": 20,
      "outputs": []
    },
    {
      "cell_type": "code",
      "source": [
        "print(\"comenzamos entrenamiento\")\n",
        "historial = modelo.fit(celsius, fahrenhenit, epochs=100, verbose=False)\n",
        "print(\"Modelo entrenado!\")"
      ],
      "metadata": {
        "id": "7CeMBbXqfbJw"
      },
      "execution_count": null,
      "outputs": []
    },
    {
      "cell_type": "code",
      "source": [
        "plt.xlabel(\"# Epoca\")\n",
        "plt.ylabel(\"Magnitud de Perdida\")\n",
        "plt.plot(historial.history[\"loss\"])"
      ],
      "metadata": {
        "id": "B30IWJr9gHzh"
      },
      "execution_count": null,
      "outputs": []
    },
    {
      "cell_type": "code",
      "source": [
        "print(\"Hagamos una prediccion!\")\n",
        "resultado = modelo.predict([100.0])\n",
        "print(\"El resultado es\" + str(resultado) + \"F\")"
      ],
      "metadata": {
        "id": "a_ozFCQJg1NH"
      },
      "execution_count": null,
      "outputs": []
    },
    {
      "cell_type": "code",
      "source": [
        "print(\"Variable Interna del modelo\")\n",
        "#print(capa.get_weights())\n",
        "print(oculta_1.get_weights())\n",
        "print(oculta_2.get_weights())\n",
        "print(salida.get_weights())"
      ],
      "metadata": {
        "id": "yA8mirV5jf_2"
      },
      "execution_count": null,
      "outputs": []
    },
    {
      "cell_type": "code",
      "source": [
        "#Exportar el modelo en formato h5\n",
        "modelo.save('celsius_a_fahrenheit.h5')"
      ],
      "metadata": {
        "id": "RkPqLrazEs31"
      },
      "execution_count": null,
      "outputs": []
    },
    {
      "cell_type": "code",
      "source": [
        "!pip install tensorflowjs"
      ],
      "metadata": {
        "id": "uYFBMS3XFLNJ"
      },
      "execution_count": null,
      "outputs": []
    },
    {
      "cell_type": "code",
      "source": [
        "!mkdir carpeta_salida"
      ],
      "metadata": {
        "id": "h-CJpo0FFzpf"
      },
      "execution_count": 61,
      "outputs": []
    },
    {
      "cell_type": "code",
      "source": [
        "!tensorflowjs_converter  --input_format keras celsius_a_fahrenheit.h5  carpeta_salida"
      ],
      "metadata": {
        "id": "BRchC5fwF5sZ"
      },
      "execution_count": null,
      "outputs": []
    },
    {
      "cell_type": "markdown",
      "source": [
        "# RED NEURONAL - CLASIFICADOR DE IMAGENES"
      ],
      "metadata": {
        "id": "M7UWwXqwp-FH"
      }
    },
    {
      "cell_type": "code",
      "source": [
        "import tensorflow as tf\n",
        "import tensorflow_datasets as tfds\n",
        "import matplotlib.pyplot as plt\n",
        "import math\n",
        "import numpy as np"
      ],
      "metadata": {
        "id": "LqxdGOaRqIad"
      },
      "execution_count": 56,
      "outputs": []
    },
    {
      "cell_type": "code",
      "source": [
        "datos, metadatos = tfds.load('fashion_mnist', as_supervised=True, with_info=True)"
      ],
      "metadata": {
        "id": "jTACD2WtyNYR"
      },
      "execution_count": null,
      "outputs": []
    },
    {
      "cell_type": "code",
      "source": [
        "datos_entrenamiento , datos_prueba = datos['train'], datos['test']\n",
        "nombres_clases = metadatos.features['label'].names"
      ],
      "metadata": {
        "id": "01dM__6xym7c"
      },
      "execution_count": 33,
      "outputs": []
    },
    {
      "cell_type": "code",
      "source": [
        "#normalizar los datos (pasar de 0-255 a 0-1)\n",
        "def normalizar(imagenes,etiquetas):\n",
        "  imagenes = tf.cast(imagenes, tf.float32)\n",
        "  imagenes /= 255 #aqui lo pasa de 0-255 a 0-1\n",
        "  return imagenes, etiquetas\n",
        "\n",
        "#normalizamos los datos de entrenamiento y prueba con la funcion que hicimos\n",
        "datos_entrenamiento = datos_entrenamiento.map(normalizar)\n",
        "datos_prueba = datos_prueba.map(normalizar)\n",
        "\n",
        "#Agregar a cache(usar memoria en lugar de disco, entrenamiento mas rapido)\n",
        "datos_entrenamiento = datos_entrenamiento.cache()\n",
        "datos_prueba = datos_prueba.cache()"
      ],
      "metadata": {
        "id": "66RllSDI1Yqx"
      },
      "execution_count": null,
      "outputs": []
    },
    {
      "cell_type": "code",
      "source": [
        "#Mostrar una imagen de los datos de prueba, de momento mostramos la primera\n",
        "for imagen, etiqueta in datos_entrenamiento.take(1):\n",
        "    break\n",
        "imagen = imagen.numpy().reshape((28,28))\n",
        "plt.figure()\n",
        "\n",
        "plt.colorbar()\n",
        "plt.grid(False)\n",
        "plt.show()"
      ],
      "metadata": {
        "id": "efTImwcR25I1"
      },
      "execution_count": null,
      "outputs": []
    },
    {
      "cell_type": "code",
      "source": [
        "plt.figure(figsize=(10,10))\n",
        "for i, (imagen, etiqueta) in enumerate(datos_entrenamiento.take(25)):\n",
        "  imagen = imagen.numpy().reshape((28,28))\n",
        "  plt.subplot(5,5,i+1)\n",
        "  plt.xticks([])\n",
        "  plt.yticks([])\n",
        "  plt.grid(False)\n",
        "  plt.imshow(imagen, cmap= plt.cm.binary)\n",
        "  plt.xlabel(nombres_clases[etiqueta])\n",
        "plt.show()"
      ],
      "metadata": {
        "id": "gh2PtWTs48UR"
      },
      "execution_count": null,
      "outputs": []
    },
    {
      "cell_type": "code",
      "source": [
        "#Creamos el modelo\n",
        "modelo = tf.keras.Sequential([\n",
        "    tf.keras.layers.Flatten(input_shape=(28,28,1)) ,#1 - blanco y negro\n",
        "    tf.keras.layers.Dense(50,activation= tf.nn.relu),\n",
        "    tf.keras.layers.Dense(50,activation= tf.nn.relu),\n",
        "    tf.keras.layers.Dense(10,activation= tf.nn.softmax) #para redes de clasificacion\n",
        "])"
      ],
      "metadata": {
        "id": "0HlK8q3m9XV0"
      },
      "execution_count": 49,
      "outputs": []
    },
    {
      "cell_type": "code",
      "source": [
        "#Compilar el Modelo\n",
        "modelo.compile(\n",
        "    optimizer=\"adam\",\n",
        "    loss= tf.keras.losses.SparseCategoricalCrossentropy(),\n",
        "    metrics=['accuracy']\n",
        ")"
      ],
      "metadata": {
        "id": "PIyuoue4-xHi"
      },
      "execution_count": 51,
      "outputs": []
    },
    {
      "cell_type": "code",
      "source": [
        "num_entrenamiento = metadatos.splits['train'].num_examples\n",
        "num_pruebas = metadatos.splits['test'].num_examples"
      ],
      "metadata": {
        "id": "WdFo3Nk3_qqz"
      },
      "execution_count": 50,
      "outputs": []
    },
    {
      "cell_type": "code",
      "source": [
        "TAMANO_LOTE = 32\n",
        "\n",
        "datos_entrenamiento = datos_entrenamiento.repeat().shuffle(num_entrenamiento).batch(TAMANO_LOTE)\n",
        "datos_prueba = datos_prueba.batch(TAMANO_LOTE)"
      ],
      "metadata": {
        "id": "t98dPPAR__jR"
      },
      "execution_count": 52,
      "outputs": []
    },
    {
      "cell_type": "code",
      "source": [
        "#Entrenar\n",
        "historial = modelo.fit(datos_entrenamiento, epochs=5 , steps_per_epoch= math.ceil(num_entrenamiento / TAMANO_LOTE))"
      ],
      "metadata": {
        "id": "9ViJYap-AjZe"
      },
      "execution_count": null,
      "outputs": []
    },
    {
      "cell_type": "code",
      "source": [
        "plt.xlabel(\"# Epoca\")\n",
        "plt.ylabel(\"Magnitud de Perdida\")\n",
        "plt.plot(historial.history[\"loss\"])"
      ],
      "metadata": {
        "id": "xTkNB6oQBYsA"
      },
      "execution_count": null,
      "outputs": []
    },
    {
      "cell_type": "code",
      "source": [
        "#Pintar una cuadricula con varias predicciones, y marcar si fue correcta (azul) o incorrecta (roja)\n",
        "for imagenes_prueba, etiquetas_prueba in datos_prueba.take(1):\n",
        "  imagenes_prueba = imagenes_prueba.numpy()\n",
        "  etiquetas_prueba = etiquetas_prueba.numpy()\n",
        "  predicciones = modelo.predict(imagenes_prueba)\n",
        "\n",
        "def graficar_imagen(i, arr_predicciones, etiquetas_reales, imagenes):\n",
        "  arr_predicciones, etiqueta_real, img = arr_predicciones[i], etiquetas_reales[i], imagenes[i]\n",
        "  plt.grid(False)\n",
        "  plt.xticks([])\n",
        "  plt.yticks([])\n",
        "\n",
        "  plt.imshow(img[...,0], cmap=plt.cm.binary)\n",
        "\n",
        "  etiqueta_prediccion = np.argmax(arr_predicciones)\n",
        "  if etiqueta_prediccion == etiqueta_real:\n",
        "    color = 'blue'\n",
        "  else:\n",
        "    color = 'red'\n",
        "\n",
        "  plt.xlabel(\"{} {:2.0f}% ({})\".format(nombres_clases[etiqueta_prediccion],\n",
        "                                100*np.max(arr_predicciones),\n",
        "                                nombres_clases[etiqueta_real]),\n",
        "                                color=color)\n",
        "\n",
        "def graficar_valor_arreglo(i, arr_predicciones, etiqueta_real):\n",
        "  arr_predicciones, etiqueta_real = arr_predicciones[i], etiqueta_real[i]\n",
        "  plt.grid(False)\n",
        "  plt.xticks([])\n",
        "  plt.yticks([])\n",
        "  grafica = plt.bar(range(10), arr_predicciones, color=\"#777777\")\n",
        "  plt.ylim([0, 1])\n",
        "  etiqueta_prediccion = np.argmax(arr_predicciones)\n",
        "\n",
        "  grafica[etiqueta_prediccion].set_color('red')\n",
        "  grafica[etiqueta_real].set_color('blue')\n",
        "\n",
        "filas = 5\n",
        "columnas = 5\n",
        "num_imagenes = filas*columnas\n",
        "plt.figure(figsize=(2*2*columnas, 2*filas))\n",
        "for i in range(num_imagenes):\n",
        "  plt.subplot(filas, 2*columnas, 2*i+1)\n",
        "  graficar_imagen(i, predicciones, etiquetas_prueba, imagenes_prueba)\n",
        "  plt.subplot(filas, 2*columnas, 2*i+2)\n",
        "  graficar_valor_arreglo(i, predicciones, etiquetas_prueba)"
      ],
      "metadata": {
        "id": "Ba7nCn3jBrCk"
      },
      "execution_count": null,
      "outputs": []
    }
  ]
}